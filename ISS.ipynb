{
  "nbformat": 4,
  "nbformat_minor": 0,
  "metadata": {
    "colab": {
      "name": "ISS.ipynb",
      "provenance": [],
      "authorship_tag": "ABX9TyOdC1tkVVSbcdWK0IbFrXhY",
      "include_colab_link": true
    },
    "kernelspec": {
      "name": "python3",
      "display_name": "Python 3"
    }
  },
  "cells": [
    {
      "cell_type": "markdown",
      "metadata": {
        "id": "view-in-github",
        "colab_type": "text"
      },
      "source": [
        "<a href=\"https://colab.research.google.com/github/19PA1A0460/I-SOMU/blob/master/ISS.ipynb\" target=\"_parent\"><img src=\"https://colab.research.google.com/assets/colab-badge.svg\" alt=\"Open In Colab\"/></a>"
      ]
    },
    {
      "cell_type": "code",
      "metadata": {
        "id": "gjyDtMNokaWT",
        "colab_type": "code",
        "colab": {
          "base_uri": "https://localhost:8080/",
          "height": 68
        },
        "outputId": "006de82d-3906-4384-af78-ed7ab8b21f7a"
      },
      "source": [
        "#Greatest of 2 num\n",
        "a=int(input('enter a value:'))\n",
        "b=int(input('enter b valie:'))\n",
        "if a>b:\n",
        "  print(\"a is larger\")\n",
        "else:\n",
        "  print('b is larger')"
      ],
      "execution_count": 1,
      "outputs": [
        {
          "output_type": "stream",
          "text": [
            "enter a value:5\n",
            "enter b valie:6\n",
            "b is larger\n"
          ],
          "name": "stdout"
        }
      ]
    },
    {
      "cell_type": "code",
      "metadata": {
        "id": "He1_MAaOmbhL",
        "colab_type": "code",
        "colab": {
          "base_uri": "https://localhost:8080/",
          "height": 102
        },
        "outputId": "d8435549-432b-458a-fadd-45d1ed2073cd"
      },
      "source": [
        "l=10\n",
        "for i in range(1,l+1):\n",
        "  a=i%2\n",
        "  if (a==0):\n",
        "    print('even num:',i)\n"
      ],
      "execution_count": 11,
      "outputs": [
        {
          "output_type": "stream",
          "text": [
            "even num: 2\n",
            "even num: 4\n",
            "even num: 6\n",
            "even num: 8\n",
            "even num: 10\n"
          ],
          "name": "stdout"
        }
      ]
    },
    {
      "cell_type": "code",
      "metadata": {
        "id": "iH301Aug3pj9",
        "colab_type": "code",
        "colab": {
          "base_uri": "https://localhost:8080/",
          "height": 102
        },
        "outputId": "d81b28d0-1f98-4c0b-9d84-786201d977e8"
      },
      "source": [
        "l=10\n",
        "for i in range(1,l+1):\n",
        "  if (i%2!=0):\n",
        "    print('odd num:',i)\n",
        "            "
      ],
      "execution_count": 13,
      "outputs": [
        {
          "output_type": "stream",
          "text": [
            "odd num: 1\n",
            "odd num: 3\n",
            "odd num: 5\n",
            "odd num: 7\n",
            "odd num: 9\n"
          ],
          "name": "stdout"
        }
      ]
    },
    {
      "cell_type": "code",
      "metadata": {
        "id": "kh904Jtp4eos",
        "colab_type": "code",
        "colab": {}
      },
      "source": [
        ""
      ],
      "execution_count": 0,
      "outputs": []
    }
  ]
}